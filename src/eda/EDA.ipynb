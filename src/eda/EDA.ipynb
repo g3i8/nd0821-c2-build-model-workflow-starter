{
 "cells": [
  {
   "cell_type": "code",
   "execution_count": 2,
   "metadata": {},
   "outputs": [
    {
     "name": "stdout",
     "output_type": "stream",
     "text": [
      "Requirement already satisfied: wandb in /opt/conda/envs/nyc_airbnb_dev/lib/python3.9/site-packages (0.10.31)\n",
      "Requirement already satisfied: promise<3,>=2.0 in /opt/conda/envs/nyc_airbnb_dev/lib/python3.9/site-packages (from wandb) (2.3)\n",
      "Requirement already satisfied: subprocess32>=3.5.3 in /opt/conda/envs/nyc_airbnb_dev/lib/python3.9/site-packages (from wandb) (3.5.4)\n",
      "Requirement already satisfied: psutil>=5.0.0 in /opt/conda/envs/nyc_airbnb_dev/lib/python3.9/site-packages (from wandb) (6.0.0)\n",
      "Requirement already satisfied: GitPython>=1.0.0 in /opt/conda/envs/nyc_airbnb_dev/lib/python3.9/site-packages (from wandb) (3.1.43)\n",
      "Requirement already satisfied: python-dateutil>=2.6.1 in /opt/conda/envs/nyc_airbnb_dev/lib/python3.9/site-packages (from wandb) (2.9.0)\n",
      "Requirement already satisfied: PyYAML in /opt/conda/envs/nyc_airbnb_dev/lib/python3.9/site-packages (from wandb) (6.0.1)\n",
      "Requirement already satisfied: pathtools in /opt/conda/envs/nyc_airbnb_dev/lib/python3.9/site-packages (from wandb) (0.1.2)\n",
      "Requirement already satisfied: docker-pycreds>=0.4.0 in /opt/conda/envs/nyc_airbnb_dev/lib/python3.9/site-packages (from wandb) (0.4.0)\n",
      "Requirement already satisfied: requests<3,>=2.0.0 in /opt/conda/envs/nyc_airbnb_dev/lib/python3.9/site-packages (from wandb) (2.32.3)\n",
      "Requirement already satisfied: six>=1.13.0 in /opt/conda/envs/nyc_airbnb_dev/lib/python3.9/site-packages (from wandb) (1.16.0)\n",
      "Requirement already satisfied: sentry-sdk>=0.4.0 in /opt/conda/envs/nyc_airbnb_dev/lib/python3.9/site-packages (from wandb) (2.5.1)\n",
      "Requirement already satisfied: protobuf>=3.12.0 in /opt/conda/envs/nyc_airbnb_dev/lib/python3.9/site-packages (from wandb) (4.25.3)\n",
      "Requirement already satisfied: shortuuid>=0.5.0 in /opt/conda/envs/nyc_airbnb_dev/lib/python3.9/site-packages (from wandb) (1.0.13)\n",
      "Requirement already satisfied: Click>=7.0 in /opt/conda/envs/nyc_airbnb_dev/lib/python3.9/site-packages (from wandb) (8.1.7)\n",
      "Requirement already satisfied: configparser>=3.8.1 in /opt/conda/envs/nyc_airbnb_dev/lib/python3.9/site-packages (from wandb) (7.0.0)\n",
      "Requirement already satisfied: gitdb<5,>=4.0.1 in /opt/conda/envs/nyc_airbnb_dev/lib/python3.9/site-packages (from GitPython>=1.0.0->wandb) (4.0.11)\n",
      "Requirement already satisfied: smmap<6,>=3.0.1 in /opt/conda/envs/nyc_airbnb_dev/lib/python3.9/site-packages (from gitdb<5,>=4.0.1->GitPython>=1.0.0->wandb) (5.0.0)\n",
      "Requirement already satisfied: certifi>=2017.4.17 in /opt/conda/envs/nyc_airbnb_dev/lib/python3.9/site-packages (from requests<3,>=2.0.0->wandb) (2024.6.2)\n",
      "Requirement already satisfied: urllib3<3,>=1.21.1 in /opt/conda/envs/nyc_airbnb_dev/lib/python3.9/site-packages (from requests<3,>=2.0.0->wandb) (1.26.19)\n",
      "Requirement already satisfied: idna<4,>=2.5 in /opt/conda/envs/nyc_airbnb_dev/lib/python3.9/site-packages (from requests<3,>=2.0.0->wandb) (3.7)\n",
      "Requirement already satisfied: charset-normalizer<4,>=2 in /opt/conda/envs/nyc_airbnb_dev/lib/python3.9/site-packages (from requests<3,>=2.0.0->wandb) (3.3.2)\n",
      "Note: you may need to restart the kernel to use updated packages.\n"
     ]
    }
   ],
   "source": [
    "pip install wandb"
   ]
  },
  {
   "cell_type": "code",
   "execution_count": 2,
   "metadata": {},
   "outputs": [
    {
     "data": {
      "text/html": [
       "Finishing last run (ID:h9lv2y62) before initializing another..."
      ],
      "text/plain": [
       "<IPython.core.display.HTML object>"
      ]
     },
     "metadata": {},
     "output_type": "display_data"
    },
    {
     "data": {
      "text/html": [
       "<br/>Waiting for W&B process to finish, PID 27624<br/>Program ended successfully."
      ],
      "text/plain": [
       "<IPython.core.display.HTML object>"
      ]
     },
     "metadata": {},
     "output_type": "display_data"
    },
    {
     "data": {
      "text/html": [
       "Find user logs for this run at: <code>/workspaces/nd0821-c2-build-model-workflow-starter/src/eda/wandb/run-20240619_232312-h9lv2y62/logs/debug.log</code>"
      ],
      "text/plain": [
       "<IPython.core.display.HTML object>"
      ]
     },
     "metadata": {},
     "output_type": "display_data"
    },
    {
     "data": {
      "text/html": [
       "Find internal logs for this run at: <code>/workspaces/nd0821-c2-build-model-workflow-starter/src/eda/wandb/run-20240619_232312-h9lv2y62/logs/debug-internal.log</code>"
      ],
      "text/plain": [
       "<IPython.core.display.HTML object>"
      ]
     },
     "metadata": {},
     "output_type": "display_data"
    },
    {
     "data": {
      "text/html": [
       "Synced 6 W&B file(s), 0 media file(s), 0 artifact file(s) and 2 other file(s)"
      ],
      "text/plain": [
       "<IPython.core.display.HTML object>"
      ]
     },
     "metadata": {},
     "output_type": "display_data"
    },
    {
     "data": {
      "text/html": [
       "\n",
       "                    <br/>Synced <strong style=\"color:#cdcd00\">stoic-sponge-14</strong>: <a href=\"https://wandb.ai/banha-university/nyc_airbnb/runs/h9lv2y62\" target=\"_blank\">https://wandb.ai/banha-university/nyc_airbnb/runs/h9lv2y62</a><br/>\n",
       "                "
      ],
      "text/plain": [
       "<IPython.core.display.HTML object>"
      ]
     },
     "metadata": {},
     "output_type": "display_data"
    },
    {
     "data": {
      "text/html": [
       "...Successfully finished last run (ID:h9lv2y62). Initializing new run:<br/><br/>"
      ],
      "text/plain": [
       "<IPython.core.display.HTML object>"
      ]
     },
     "metadata": {},
     "output_type": "display_data"
    },
    {
     "name": "stderr",
     "output_type": "stream",
     "text": [
      "\u001b[34m\u001b[1mwandb\u001b[0m: wandb version 0.17.2 is available!  To upgrade, please run:\n",
      "\u001b[34m\u001b[1mwandb\u001b[0m:  $ pip install wandb --upgrade\n"
     ]
    },
    {
     "data": {
      "text/html": [
       "\n",
       "                Tracking run with wandb version 0.10.31<br/>\n",
       "                Syncing run <strong style=\"color:#cdcd00\">autumn-puddle-15</strong> to <a href=\"https://wandb.ai\" target=\"_blank\">Weights & Biases</a> <a href=\"https://docs.wandb.com/integrations/jupyter.html\" target=\"_blank\">(Documentation)</a>.<br/>\n",
       "                Project page: <a href=\"https://wandb.ai/banha-university/nyc_airbnb\" target=\"_blank\">https://wandb.ai/banha-university/nyc_airbnb</a><br/>\n",
       "                Run page: <a href=\"https://wandb.ai/banha-university/nyc_airbnb/runs/47d25emj\" target=\"_blank\">https://wandb.ai/banha-university/nyc_airbnb/runs/47d25emj</a><br/>\n",
       "                Run data is saved locally in <code>/workspaces/nd0821-c2-build-model-workflow-starter/src/eda/wandb/run-20240619_232414-47d25emj</code><br/><br/>\n",
       "            "
      ],
      "text/plain": [
       "<IPython.core.display.HTML object>"
      ]
     },
     "metadata": {},
     "output_type": "display_data"
    }
   ],
   "source": [
    "import wandb\n",
    "import pandas as pd\n",
    "\n",
    "run = wandb.init(project=\"nyc_airbnb\", group=\"eda\", save_code=True)\n",
    "local_path = wandb.use_artifact(\"sample.csv:latest\").file()\n",
    "df = pd.read_csv(local_path)"
   ]
  },
  {
   "cell_type": "code",
   "execution_count": 6,
   "metadata": {},
   "outputs": [
    {
     "name": "stdout",
     "output_type": "stream",
     "text": [
      "Collecting protobuf==3.20.3\n",
      "  Downloading protobuf-3.20.3-cp39-cp39-manylinux_2_5_x86_64.manylinux1_x86_64.whl (1.0 MB)\n",
      "\u001b[K     |████████████████████████████████| 1.0 MB 25.8 MB/s eta 0:00:01\n",
      "\u001b[?25hInstalling collected packages: protobuf\n",
      "  Attempting uninstall: protobuf\n",
      "    Found existing installation: protobuf 4.25.3\n",
      "    Uninstalling protobuf-4.25.3:\n",
      "      Successfully uninstalled protobuf-4.25.3\n",
      "Successfully installed protobuf-3.20.3\n"
     ]
    }
   ],
   "source": [
    "!pip install protobuf==3.20.3\n",
    "!export PROTOCOL_BUFFERS_PYTHON_IMPLEMENTATION=python"
   ]
  },
  {
   "cell_type": "code",
   "execution_count": 3,
   "metadata": {},
   "outputs": [],
   "source": [
    "\n",
    "!export PROTOCOL_BUFFERS_PYTHON_IMPLEMENTATION=python"
   ]
  },
  {
   "cell_type": "code",
   "execution_count": 5,
   "metadata": {},
   "outputs": [
    {
     "name": "stdout",
     "output_type": "stream",
     "text": [
      "Requirement already satisfied: pandas_profiling in /opt/conda/envs/nyc_airbnb_dev/lib/python3.9/site-packages (3.6.6)\n",
      "Requirement already satisfied: ydata-profiling in /opt/conda/envs/nyc_airbnb_dev/lib/python3.9/site-packages (from pandas_profiling) (4.8.3)\n",
      "Requirement already satisfied: pandas!=1.4.0,<3,>1.1 in /opt/conda/envs/nyc_airbnb_dev/lib/python3.9/site-packages (from ydata-profiling->pandas_profiling) (2.2.2)\n",
      "Requirement already satisfied: matplotlib<3.9,>=3.2 in /opt/conda/envs/nyc_airbnb_dev/lib/python3.9/site-packages (from ydata-profiling->pandas_profiling) (3.8.4)\n",
      "Requirement already satisfied: dacite>=1.8 in /opt/conda/envs/nyc_airbnb_dev/lib/python3.9/site-packages (from ydata-profiling->pandas_profiling) (1.8.1)\n",
      "Requirement already satisfied: imagehash==4.3.1 in /opt/conda/envs/nyc_airbnb_dev/lib/python3.9/site-packages (from ydata-profiling->pandas_profiling) (4.3.1)\n",
      "Requirement already satisfied: numpy<2,>=1.16.0 in /opt/conda/envs/nyc_airbnb_dev/lib/python3.9/site-packages (from ydata-profiling->pandas_profiling) (1.26.4)\n",
      "Requirement already satisfied: tqdm<5,>=4.48.2 in /opt/conda/envs/nyc_airbnb_dev/lib/python3.9/site-packages (from ydata-profiling->pandas_profiling) (4.66.4)\n",
      "Requirement already satisfied: htmlmin==0.1.12 in /opt/conda/envs/nyc_airbnb_dev/lib/python3.9/site-packages (from ydata-profiling->pandas_profiling) (0.1.12)\n",
      "Requirement already satisfied: multimethod<2,>=1.4 in /opt/conda/envs/nyc_airbnb_dev/lib/python3.9/site-packages (from ydata-profiling->pandas_profiling) (1.11.2)\n",
      "Requirement already satisfied: phik<0.13,>=0.11.1 in /opt/conda/envs/nyc_airbnb_dev/lib/python3.9/site-packages (from ydata-profiling->pandas_profiling) (0.12.4)\n",
      "Requirement already satisfied: jinja2<3.2,>=2.11.1 in /opt/conda/envs/nyc_airbnb_dev/lib/python3.9/site-packages (from ydata-profiling->pandas_profiling) (2.11.3)\n",
      "Requirement already satisfied: pydantic>=2 in /opt/conda/envs/nyc_airbnb_dev/lib/python3.9/site-packages (from ydata-profiling->pandas_profiling) (2.7.4)\n",
      "Requirement already satisfied: numba<1,>=0.56.0 in /opt/conda/envs/nyc_airbnb_dev/lib/python3.9/site-packages (from ydata-profiling->pandas_profiling) (0.60.0)\n",
      "Requirement already satisfied: requests<3,>=2.24.0 in /opt/conda/envs/nyc_airbnb_dev/lib/python3.9/site-packages (from ydata-profiling->pandas_profiling) (2.32.3)\n",
      "Requirement already satisfied: typeguard<5,>=3 in /opt/conda/envs/nyc_airbnb_dev/lib/python3.9/site-packages (from ydata-profiling->pandas_profiling) (4.3.0)\n",
      "Requirement already satisfied: statsmodels<1,>=0.13.2 in /opt/conda/envs/nyc_airbnb_dev/lib/python3.9/site-packages (from ydata-profiling->pandas_profiling) (0.14.2)\n",
      "Requirement already satisfied: PyYAML<6.1,>=5.0.0 in /opt/conda/envs/nyc_airbnb_dev/lib/python3.9/site-packages (from ydata-profiling->pandas_profiling) (6.0.1)\n",
      "Requirement already satisfied: scipy<1.14,>=1.4.1 in /opt/conda/envs/nyc_airbnb_dev/lib/python3.9/site-packages (from ydata-profiling->pandas_profiling) (1.13.1)\n",
      "Requirement already satisfied: wordcloud>=1.9.1 in /opt/conda/envs/nyc_airbnb_dev/lib/python3.9/site-packages (from ydata-profiling->pandas_profiling) (1.9.3)\n",
      "Requirement already satisfied: visions[type_image_path]<0.7.7,>=0.7.5 in /opt/conda/envs/nyc_airbnb_dev/lib/python3.9/site-packages (from ydata-profiling->pandas_profiling) (0.7.6)\n",
      "Requirement already satisfied: seaborn<0.14,>=0.10.1 in /opt/conda/envs/nyc_airbnb_dev/lib/python3.9/site-packages (from ydata-profiling->pandas_profiling) (0.13.2)\n",
      "Requirement already satisfied: pillow in /opt/conda/envs/nyc_airbnb_dev/lib/python3.9/site-packages (from imagehash==4.3.1->ydata-profiling->pandas_profiling) (9.4.0)\n",
      "Requirement already satisfied: PyWavelets in /opt/conda/envs/nyc_airbnb_dev/lib/python3.9/site-packages (from imagehash==4.3.1->ydata-profiling->pandas_profiling) (1.6.0)\n",
      "Requirement already satisfied: MarkupSafe>=0.23 in /opt/conda/envs/nyc_airbnb_dev/lib/python3.9/site-packages (from jinja2<3.2,>=2.11.1->ydata-profiling->pandas_profiling) (1.1.1)\n",
      "Requirement already satisfied: python-dateutil>=2.7 in /opt/conda/envs/nyc_airbnb_dev/lib/python3.9/site-packages (from matplotlib<3.9,>=3.2->ydata-profiling->pandas_profiling) (2.9.0)\n",
      "Requirement already satisfied: packaging>=20.0 in /opt/conda/envs/nyc_airbnb_dev/lib/python3.9/site-packages (from matplotlib<3.9,>=3.2->ydata-profiling->pandas_profiling) (24.1)\n",
      "Requirement already satisfied: pyparsing>=2.3.1 in /opt/conda/envs/nyc_airbnb_dev/lib/python3.9/site-packages (from matplotlib<3.9,>=3.2->ydata-profiling->pandas_profiling) (3.1.2)\n",
      "Requirement already satisfied: kiwisolver>=1.3.1 in /opt/conda/envs/nyc_airbnb_dev/lib/python3.9/site-packages (from matplotlib<3.9,>=3.2->ydata-profiling->pandas_profiling) (1.4.5)\n",
      "Requirement already satisfied: importlib-resources>=3.2.0 in /opt/conda/envs/nyc_airbnb_dev/lib/python3.9/site-packages (from matplotlib<3.9,>=3.2->ydata-profiling->pandas_profiling) (6.4.0)\n",
      "Requirement already satisfied: cycler>=0.10 in /opt/conda/envs/nyc_airbnb_dev/lib/python3.9/site-packages (from matplotlib<3.9,>=3.2->ydata-profiling->pandas_profiling) (0.12.1)\n",
      "Requirement already satisfied: fonttools>=4.22.0 in /opt/conda/envs/nyc_airbnb_dev/lib/python3.9/site-packages (from matplotlib<3.9,>=3.2->ydata-profiling->pandas_profiling) (4.53.0)\n",
      "Requirement already satisfied: contourpy>=1.0.1 in /opt/conda/envs/nyc_airbnb_dev/lib/python3.9/site-packages (from matplotlib<3.9,>=3.2->ydata-profiling->pandas_profiling) (1.2.1)\n",
      "Requirement already satisfied: zipp>=3.1.0 in /opt/conda/envs/nyc_airbnb_dev/lib/python3.9/site-packages (from importlib-resources>=3.2.0->matplotlib<3.9,>=3.2->ydata-profiling->pandas_profiling) (3.19.2)\n",
      "Requirement already satisfied: llvmlite<0.44,>=0.43.0dev0 in /opt/conda/envs/nyc_airbnb_dev/lib/python3.9/site-packages (from numba<1,>=0.56.0->ydata-profiling->pandas_profiling) (0.43.0)\n",
      "Requirement already satisfied: tzdata>=2022.7 in /opt/conda/envs/nyc_airbnb_dev/lib/python3.9/site-packages (from pandas!=1.4.0,<3,>1.1->ydata-profiling->pandas_profiling) (2024.1)\n",
      "Requirement already satisfied: pytz>=2020.1 in /opt/conda/envs/nyc_airbnb_dev/lib/python3.9/site-packages (from pandas!=1.4.0,<3,>1.1->ydata-profiling->pandas_profiling) (2024.1)\n",
      "Requirement already satisfied: joblib>=0.14.1 in /opt/conda/envs/nyc_airbnb_dev/lib/python3.9/site-packages (from phik<0.13,>=0.11.1->ydata-profiling->pandas_profiling) (1.4.2)\n",
      "Requirement already satisfied: pydantic-core==2.18.4 in /opt/conda/envs/nyc_airbnb_dev/lib/python3.9/site-packages (from pydantic>=2->ydata-profiling->pandas_profiling) (2.18.4)\n",
      "Requirement already satisfied: annotated-types>=0.4.0 in /opt/conda/envs/nyc_airbnb_dev/lib/python3.9/site-packages (from pydantic>=2->ydata-profiling->pandas_profiling) (0.7.0)\n",
      "Requirement already satisfied: typing-extensions>=4.6.1 in /opt/conda/envs/nyc_airbnb_dev/lib/python3.9/site-packages (from pydantic>=2->ydata-profiling->pandas_profiling) (4.12.2)\n",
      "Requirement already satisfied: six>=1.5 in /opt/conda/envs/nyc_airbnb_dev/lib/python3.9/site-packages (from python-dateutil>=2.7->matplotlib<3.9,>=3.2->ydata-profiling->pandas_profiling) (1.16.0)\n",
      "Requirement already satisfied: certifi>=2017.4.17 in /opt/conda/envs/nyc_airbnb_dev/lib/python3.9/site-packages (from requests<3,>=2.24.0->ydata-profiling->pandas_profiling) (2024.6.2)\n",
      "Requirement already satisfied: idna<4,>=2.5 in /opt/conda/envs/nyc_airbnb_dev/lib/python3.9/site-packages (from requests<3,>=2.24.0->ydata-profiling->pandas_profiling) (3.7)\n",
      "Requirement already satisfied: urllib3<3,>=1.21.1 in /opt/conda/envs/nyc_airbnb_dev/lib/python3.9/site-packages (from requests<3,>=2.24.0->ydata-profiling->pandas_profiling) (1.26.19)\n",
      "Requirement already satisfied: charset-normalizer<4,>=2 in /opt/conda/envs/nyc_airbnb_dev/lib/python3.9/site-packages (from requests<3,>=2.24.0->ydata-profiling->pandas_profiling) (3.3.2)\n",
      "Requirement already satisfied: patsy>=0.5.6 in /opt/conda/envs/nyc_airbnb_dev/lib/python3.9/site-packages (from statsmodels<1,>=0.13.2->ydata-profiling->pandas_profiling) (0.5.6)\n",
      "Requirement already satisfied: importlib-metadata>=3.6 in /opt/conda/envs/nyc_airbnb_dev/lib/python3.9/site-packages (from typeguard<5,>=3->ydata-profiling->pandas_profiling) (7.1.0)\n",
      "Requirement already satisfied: networkx>=2.4 in /opt/conda/envs/nyc_airbnb_dev/lib/python3.9/site-packages (from visions[type_image_path]<0.7.7,>=0.7.5->ydata-profiling->pandas_profiling) (3.2.1)\n",
      "Requirement already satisfied: attrs>=19.3.0 in /opt/conda/envs/nyc_airbnb_dev/lib/python3.9/site-packages (from visions[type_image_path]<0.7.7,>=0.7.5->ydata-profiling->pandas_profiling) (23.2.0)\n"
     ]
    }
   ],
   "source": [
    "!pip install pandas_profiling --upgrade"
   ]
  },
  {
   "cell_type": "code",
   "execution_count": 5,
   "metadata": {},
   "outputs": [
    {
     "name": "stderr",
     "output_type": "stream",
     "text": [
      "/opt/conda/envs/nyc_airbnb_dev/lib/python3.9/site-packages/tqdm/auto.py:21: TqdmWarning: IProgress not found. Please update jupyter and ipywidgets. See https://ipywidgets.readthedocs.io/en/stable/user_install.html\n",
      "  from .autonotebook import tqdm as notebook_tqdm\n",
      "Summarize dataset:  78%|███████▊  | 18/23 [00:00<00:00, 26.75it/s, Calculate auto correlation]                      /opt/conda/envs/nyc_airbnb_dev/lib/python3.9/site-packages/ydata_profiling/model/correlations.py:66: UserWarning: There was an attempt to calculate the auto correlation, but this failed.\n",
      "To hide this warning, disable the calculation\n",
      "(using `df.profile_report(correlations={\"auto\": {\"calculate\": False}})`\n",
      "If this is problematic for your use case, please report this as an issue:\n",
      "https://github.com/ydataai/ydata-profiling/issues\n",
      "(include the error message: 'could not convert string to float: 'Queens'')\n",
      "  warnings.warn(\n",
      "Summarize dataset: 100%|██████████| 126/126 [00:16<00:00,  7.47it/s, Completed]                                                             \n",
      "Generate report structure: 100%|██████████| 1/1 [00:07<00:00,  7.75s/it]\n",
      "                                                     \r"
     ]
    },
    {
     "ename": "ModuleNotFoundError",
     "evalue": "No module named 'ipywidgets'",
     "output_type": "error",
     "traceback": [
      "\u001b[0;31m---------------------------------------------------------------------------\u001b[0m",
      "\u001b[0;31mModuleNotFoundError\u001b[0m                       Traceback (most recent call last)",
      "\u001b[0;32m<ipython-input-5-75430920b06d>\u001b[0m in \u001b[0;36m<module>\u001b[0;34m\u001b[0m\n\u001b[1;32m      1\u001b[0m \u001b[0;32mimport\u001b[0m \u001b[0mydata_profiling\u001b[0m\u001b[0;34m\u001b[0m\u001b[0;34m\u001b[0m\u001b[0m\n\u001b[1;32m      2\u001b[0m \u001b[0mprofile\u001b[0m \u001b[0;34m=\u001b[0m \u001b[0mydata_profiling\u001b[0m\u001b[0;34m.\u001b[0m\u001b[0mProfileReport\u001b[0m\u001b[0;34m(\u001b[0m\u001b[0mdf\u001b[0m\u001b[0;34m)\u001b[0m\u001b[0;34m\u001b[0m\u001b[0;34m\u001b[0m\u001b[0m\n\u001b[0;32m----> 3\u001b[0;31m \u001b[0mprofile\u001b[0m\u001b[0;34m.\u001b[0m\u001b[0mto_widgets\u001b[0m\u001b[0;34m(\u001b[0m\u001b[0;34m)\u001b[0m\u001b[0;34m\u001b[0m\u001b[0;34m\u001b[0m\u001b[0m\n\u001b[0m",
      "\u001b[0;32m/opt/conda/envs/nyc_airbnb_dev/lib/python3.9/site-packages/ydata_profiling/profile_report.py\u001b[0m in \u001b[0;36mto_widgets\u001b[0;34m(self)\u001b[0m\n\u001b[1;32m    540\u001b[0m         \u001b[0;32mfrom\u001b[0m \u001b[0mIPython\u001b[0m\u001b[0;34m.\u001b[0m\u001b[0mcore\u001b[0m\u001b[0;34m.\u001b[0m\u001b[0mdisplay\u001b[0m \u001b[0;32mimport\u001b[0m \u001b[0mdisplay\u001b[0m\u001b[0;34m\u001b[0m\u001b[0;34m\u001b[0m\u001b[0m\n\u001b[1;32m    541\u001b[0m \u001b[0;34m\u001b[0m\u001b[0m\n\u001b[0;32m--> 542\u001b[0;31m         \u001b[0mdisplay\u001b[0m\u001b[0;34m(\u001b[0m\u001b[0mself\u001b[0m\u001b[0;34m.\u001b[0m\u001b[0mwidgets\u001b[0m\u001b[0;34m)\u001b[0m\u001b[0;34m\u001b[0m\u001b[0;34m\u001b[0m\u001b[0m\n\u001b[0m\u001b[1;32m    543\u001b[0m \u001b[0;34m\u001b[0m\u001b[0m\n\u001b[1;32m    544\u001b[0m     \u001b[0;32mdef\u001b[0m \u001b[0m_repr_html_\u001b[0m\u001b[0;34m(\u001b[0m\u001b[0mself\u001b[0m\u001b[0;34m)\u001b[0m \u001b[0;34m->\u001b[0m \u001b[0;32mNone\u001b[0m\u001b[0;34m:\u001b[0m\u001b[0;34m\u001b[0m\u001b[0;34m\u001b[0m\u001b[0m\n",
      "\u001b[0;32m/opt/conda/envs/nyc_airbnb_dev/lib/python3.9/site-packages/ydata_profiling/profile_report.py\u001b[0m in \u001b[0;36mwidgets\u001b[0;34m(self)\u001b[0m\n\u001b[1;32m    310\u001b[0m \u001b[0;34m\u001b[0m\u001b[0m\n\u001b[1;32m    311\u001b[0m         \u001b[0;32mif\u001b[0m \u001b[0mself\u001b[0m\u001b[0;34m.\u001b[0m\u001b[0m_widgets\u001b[0m \u001b[0;32mis\u001b[0m \u001b[0;32mNone\u001b[0m\u001b[0;34m:\u001b[0m\u001b[0;34m\u001b[0m\u001b[0;34m\u001b[0m\u001b[0m\n\u001b[0;32m--> 312\u001b[0;31m             \u001b[0mself\u001b[0m\u001b[0;34m.\u001b[0m\u001b[0m_widgets\u001b[0m \u001b[0;34m=\u001b[0m \u001b[0mself\u001b[0m\u001b[0;34m.\u001b[0m\u001b[0m_render_widgets\u001b[0m\u001b[0;34m(\u001b[0m\u001b[0;34m)\u001b[0m\u001b[0;34m\u001b[0m\u001b[0;34m\u001b[0m\u001b[0m\n\u001b[0m\u001b[1;32m    313\u001b[0m         \u001b[0;32mreturn\u001b[0m \u001b[0mself\u001b[0m\u001b[0;34m.\u001b[0m\u001b[0m_widgets\u001b[0m\u001b[0;34m\u001b[0m\u001b[0;34m\u001b[0m\u001b[0m\n\u001b[1;32m    314\u001b[0m \u001b[0;34m\u001b[0m\u001b[0m\n",
      "\u001b[0;32m/opt/conda/envs/nyc_airbnb_dev/lib/python3.9/site-packages/ydata_profiling/profile_report.py\u001b[0m in \u001b[0;36m_render_widgets\u001b[0;34m(self)\u001b[0m\n\u001b[1;32m    443\u001b[0m             \u001b[0mleave\u001b[0m\u001b[0;34m=\u001b[0m\u001b[0;32mFalse\u001b[0m\u001b[0;34m,\u001b[0m\u001b[0;34m\u001b[0m\u001b[0;34m\u001b[0m\u001b[0m\n\u001b[1;32m    444\u001b[0m         ) as pbar:\n\u001b[0;32m--> 445\u001b[0;31m             \u001b[0mwidgets\u001b[0m \u001b[0;34m=\u001b[0m \u001b[0mWidgetReport\u001b[0m\u001b[0;34m(\u001b[0m\u001b[0mcopy\u001b[0m\u001b[0;34m.\u001b[0m\u001b[0mdeepcopy\u001b[0m\u001b[0;34m(\u001b[0m\u001b[0mreport\u001b[0m\u001b[0;34m)\u001b[0m\u001b[0;34m)\u001b[0m\u001b[0;34m.\u001b[0m\u001b[0mrender\u001b[0m\u001b[0;34m(\u001b[0m\u001b[0;34m)\u001b[0m\u001b[0;34m\u001b[0m\u001b[0;34m\u001b[0m\u001b[0m\n\u001b[0m\u001b[1;32m    446\u001b[0m             \u001b[0mpbar\u001b[0m\u001b[0;34m.\u001b[0m\u001b[0mupdate\u001b[0m\u001b[0;34m(\u001b[0m\u001b[0;34m)\u001b[0m\u001b[0;34m\u001b[0m\u001b[0;34m\u001b[0m\u001b[0m\n\u001b[1;32m    447\u001b[0m         \u001b[0;32mreturn\u001b[0m \u001b[0mwidgets\u001b[0m\u001b[0;34m\u001b[0m\u001b[0;34m\u001b[0m\u001b[0m\n",
      "\u001b[0;32m/opt/conda/envs/nyc_airbnb_dev/lib/python3.9/site-packages/ydata_profiling/report/presentation/flavours/flavours.py\u001b[0m in \u001b[0;36mWidgetReport\u001b[0;34m(structure)\u001b[0m\n\u001b[1;32m    149\u001b[0m \u001b[0;34m\u001b[0m\u001b[0m\n\u001b[1;32m    150\u001b[0m \u001b[0;32mdef\u001b[0m \u001b[0mWidgetReport\u001b[0m\u001b[0;34m(\u001b[0m\u001b[0mstructure\u001b[0m\u001b[0;34m:\u001b[0m \u001b[0mRoot\u001b[0m\u001b[0;34m)\u001b[0m \u001b[0;34m->\u001b[0m \u001b[0mRoot\u001b[0m\u001b[0;34m:\u001b[0m\u001b[0;34m\u001b[0m\u001b[0;34m\u001b[0m\u001b[0m\n\u001b[0;32m--> 151\u001b[0;31m     \u001b[0mmapping\u001b[0m \u001b[0;34m=\u001b[0m \u001b[0mget_widget_renderable_mapping\u001b[0m\u001b[0;34m(\u001b[0m\u001b[0;34m)\u001b[0m\u001b[0;34m\u001b[0m\u001b[0;34m\u001b[0m\u001b[0m\n\u001b[0m\u001b[1;32m    152\u001b[0m     \u001b[0mapply_renderable_mapping\u001b[0m\u001b[0;34m(\u001b[0m\u001b[0mmapping\u001b[0m\u001b[0;34m,\u001b[0m \u001b[0mstructure\u001b[0m\u001b[0;34m,\u001b[0m \u001b[0mflavour\u001b[0m\u001b[0;34m=\u001b[0m\u001b[0mWidgetReport\u001b[0m\u001b[0;34m)\u001b[0m\u001b[0;34m\u001b[0m\u001b[0;34m\u001b[0m\u001b[0m\n\u001b[1;32m    153\u001b[0m     \u001b[0;32mreturn\u001b[0m \u001b[0mstructure\u001b[0m\u001b[0;34m\u001b[0m\u001b[0;34m\u001b[0m\u001b[0m\n",
      "\u001b[0;32m/opt/conda/envs/nyc_airbnb_dev/lib/python3.9/site-packages/ydata_profiling/report/presentation/flavours/flavours.py\u001b[0m in \u001b[0;36mget_widget_renderable_mapping\u001b[0;34m()\u001b[0m\n\u001b[1;32m    109\u001b[0m         \u001b[0mVariableInfo\u001b[0m\u001b[0;34m,\u001b[0m\u001b[0;34m\u001b[0m\u001b[0;34m\u001b[0m\u001b[0m\n\u001b[1;32m    110\u001b[0m     )\n\u001b[0;32m--> 111\u001b[0;31m     from ydata_profiling.report.presentation.flavours.widget import (\n\u001b[0m\u001b[1;32m    112\u001b[0m         \u001b[0mWidgetAlerts\u001b[0m\u001b[0;34m,\u001b[0m\u001b[0;34m\u001b[0m\u001b[0;34m\u001b[0m\u001b[0m\n\u001b[1;32m    113\u001b[0m         \u001b[0mWidgetCollapse\u001b[0m\u001b[0;34m,\u001b[0m\u001b[0;34m\u001b[0m\u001b[0;34m\u001b[0m\u001b[0m\n",
      "\u001b[0;32m/opt/conda/envs/nyc_airbnb_dev/lib/python3.9/site-packages/ydata_profiling/report/presentation/flavours/widget/__init__.py\u001b[0m in \u001b[0;36m<module>\u001b[0;34m\u001b[0m\n\u001b[0;32m----> 1\u001b[0;31m \u001b[0;32mfrom\u001b[0m \u001b[0mydata_profiling\u001b[0m\u001b[0;34m.\u001b[0m\u001b[0mreport\u001b[0m\u001b[0;34m.\u001b[0m\u001b[0mpresentation\u001b[0m\u001b[0;34m.\u001b[0m\u001b[0mflavours\u001b[0m\u001b[0;34m.\u001b[0m\u001b[0mwidget\u001b[0m\u001b[0;34m.\u001b[0m\u001b[0malerts\u001b[0m \u001b[0;32mimport\u001b[0m \u001b[0mWidgetAlerts\u001b[0m\u001b[0;34m\u001b[0m\u001b[0;34m\u001b[0m\u001b[0m\n\u001b[0m\u001b[1;32m      2\u001b[0m \u001b[0;32mfrom\u001b[0m \u001b[0mydata_profiling\u001b[0m\u001b[0;34m.\u001b[0m\u001b[0mreport\u001b[0m\u001b[0;34m.\u001b[0m\u001b[0mpresentation\u001b[0m\u001b[0;34m.\u001b[0m\u001b[0mflavours\u001b[0m\u001b[0;34m.\u001b[0m\u001b[0mwidget\u001b[0m\u001b[0;34m.\u001b[0m\u001b[0mcollapse\u001b[0m \u001b[0;32mimport\u001b[0m \u001b[0mWidgetCollapse\u001b[0m\u001b[0;34m\u001b[0m\u001b[0;34m\u001b[0m\u001b[0m\n\u001b[1;32m      3\u001b[0m from ydata_profiling.report.presentation.flavours.widget.container import (\n\u001b[1;32m      4\u001b[0m     \u001b[0mWidgetContainer\u001b[0m\u001b[0;34m,\u001b[0m\u001b[0;34m\u001b[0m\u001b[0;34m\u001b[0m\u001b[0m\n\u001b[1;32m      5\u001b[0m )\n",
      "\u001b[0;32m/opt/conda/envs/nyc_airbnb_dev/lib/python3.9/site-packages/ydata_profiling/report/presentation/flavours/widget/alerts.py\u001b[0m in \u001b[0;36m<module>\u001b[0;34m\u001b[0m\n\u001b[1;32m      1\u001b[0m \u001b[0;32mfrom\u001b[0m \u001b[0mtyping\u001b[0m \u001b[0;32mimport\u001b[0m \u001b[0mList\u001b[0m\u001b[0;34m\u001b[0m\u001b[0;34m\u001b[0m\u001b[0m\n\u001b[1;32m      2\u001b[0m \u001b[0;34m\u001b[0m\u001b[0m\n\u001b[0;32m----> 3\u001b[0;31m \u001b[0;32mfrom\u001b[0m \u001b[0mipywidgets\u001b[0m \u001b[0;32mimport\u001b[0m \u001b[0mHTML\u001b[0m\u001b[0;34m,\u001b[0m \u001b[0mButton\u001b[0m\u001b[0;34m,\u001b[0m \u001b[0mwidgets\u001b[0m\u001b[0;34m\u001b[0m\u001b[0;34m\u001b[0m\u001b[0m\n\u001b[0m\u001b[1;32m      4\u001b[0m \u001b[0;34m\u001b[0m\u001b[0m\n\u001b[1;32m      5\u001b[0m \u001b[0;32mfrom\u001b[0m \u001b[0mydata_profiling\u001b[0m\u001b[0;34m.\u001b[0m\u001b[0mreport\u001b[0m\u001b[0;34m.\u001b[0m\u001b[0mpresentation\u001b[0m\u001b[0;34m.\u001b[0m\u001b[0mcore\u001b[0m \u001b[0;32mimport\u001b[0m \u001b[0mAlerts\u001b[0m\u001b[0;34m\u001b[0m\u001b[0;34m\u001b[0m\u001b[0m\n",
      "\u001b[0;31mModuleNotFoundError\u001b[0m: No module named 'ipywidgets'"
     ]
    }
   ],
   "source": [
    "import ydata_profiling\n",
    "profile = ydata_profiling.ProfileReport(df)\n",
    "profile.to_widgets()"
   ]
  },
  {
   "cell_type": "code",
   "execution_count": 6,
   "metadata": {},
   "outputs": [],
   "source": [
    "# Drop outliers\n",
    "min_price = 10\n",
    "max_price = 350\n",
    "idx = df['price'].between(min_price, max_price)\n",
    "df = df[idx].copy()\n",
    "# Convert last_review to datetime\n",
    "df['last_review'] = pd.to_datetime(df['last_review'])"
   ]
  },
  {
   "cell_type": "code",
   "execution_count": 7,
   "metadata": {},
   "outputs": [
    {
     "name": "stdout",
     "output_type": "stream",
     "text": [
      "<class 'pandas.core.frame.DataFrame'>\n",
      "Index: 19001 entries, 0 to 19999\n",
      "Data columns (total 16 columns):\n",
      " #   Column                          Non-Null Count  Dtype         \n",
      "---  ------                          --------------  -----         \n",
      " 0   id                              19001 non-null  int64         \n",
      " 1   name                            18994 non-null  object        \n",
      " 2   host_id                         19001 non-null  int64         \n",
      " 3   host_name                       18993 non-null  object        \n",
      " 4   neighbourhood_group             19001 non-null  object        \n",
      " 5   neighbourhood                   19001 non-null  object        \n",
      " 6   latitude                        19001 non-null  float64       \n",
      " 7   longitude                       19001 non-null  float64       \n",
      " 8   room_type                       19001 non-null  object        \n",
      " 9   price                           19001 non-null  int64         \n",
      " 10  minimum_nights                  19001 non-null  int64         \n",
      " 11  number_of_reviews               19001 non-null  int64         \n",
      " 12  last_review                     15243 non-null  datetime64[ns]\n",
      " 13  reviews_per_month               15243 non-null  float64       \n",
      " 14  calculated_host_listings_count  19001 non-null  int64         \n",
      " 15  availability_365                19001 non-null  int64         \n",
      "dtypes: datetime64[ns](1), float64(3), int64(7), object(5)\n",
      "memory usage: 2.5+ MB\n"
     ]
    }
   ],
   "source": [
    "df.info()"
   ]
  },
  {
   "cell_type": "code",
   "execution_count": 8,
   "metadata": {},
   "outputs": [
    {
     "data": {
      "text/plain": [
       "id                                   0\n",
       "name                                 7\n",
       "host_id                              0\n",
       "host_name                            8\n",
       "neighbourhood_group                  0\n",
       "neighbourhood                        0\n",
       "latitude                             0\n",
       "longitude                            0\n",
       "room_type                            0\n",
       "price                                0\n",
       "minimum_nights                       0\n",
       "number_of_reviews                    0\n",
       "last_review                       3758\n",
       "reviews_per_month                 3758\n",
       "calculated_host_listings_count       0\n",
       "availability_365                     0\n",
       "dtype: int64"
      ]
     },
     "execution_count": 8,
     "metadata": {},
     "output_type": "execute_result"
    }
   ],
   "source": [
    "df.isna().sum()"
   ]
  },
  {
   "cell_type": "code",
   "execution_count": null,
   "metadata": {},
   "outputs": [],
   "source": []
  }
 ],
 "metadata": {
  "kernelspec": {
   "display_name": "nyc_airbnb_dev",
   "language": "python",
   "name": "python3"
  },
  "language_info": {
   "codemirror_mode": {
    "name": "ipython",
    "version": 3
   },
   "file_extension": ".py",
   "mimetype": "text/x-python",
   "name": "python",
   "nbconvert_exporter": "python",
   "pygments_lexer": "ipython3",
   "version": "3.9.15"
  }
 },
 "nbformat": 4,
 "nbformat_minor": 2
}
